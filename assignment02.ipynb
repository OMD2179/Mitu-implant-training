{
 "cells": [
  {
   "cell_type": "code",
   "execution_count": 2,
   "id": "0a5a0a26-535f-44a7-a42d-fe3154ccde53",
   "metadata": {},
   "outputs": [],
   "source": [
    "#1\n",
    "# Import the functions from the cricket package\n",
    "from cricket import batsman\n",
    "from cricket import bowler\n",
    "\n",
    "# Test the batsman functions\n",
    "runs = 500\n",
    "matches = 10\n",
    "balls = 300\n",
    "\n",
    "batting_avg = batsman.findaverage(runs, matches)\n",
    "strike_rate = batsman.strikerate(runs, balls)\n",
    "\n",
    "print(f\"Batting Average: {batting_avg}\")\n",
    "print(f\"Strike Rate: {strike_rate}\")\n",
    "\n",
    "# Test the bowler functions\n",
    "runs_conceded = 400\n",
    "wickets = 20\n",
    "overs = 50\n",
    "\n",
    "bowling_avg = bowler.findavg(runs_conceded, wickets)\n",
    "economy_rate = bowler.economyrate(overs, runs_conceded)\n",
    "\n",
    "print(f\"Bowling Average: {bowling_avg}\")\n",
    "print(f\"Economy Rate: {economy_rate}\")"
   ]
  },
  {
   "cell_type": "markdown",
   "id": "8246476b-2135-4944-babe-5240d2f1ed61",
   "metadata": {},
   "source": [
    "Batting Average: 50.0\n",
    "Strike Rate: 166.66666666666669\n",
    "Bowling Average: 20.0\n",
    "Economy Rate: 8.0"
   ]
  },
  {
   "cell_type": "code",
   "execution_count": 3,
   "id": "ac902c0c-c6fd-4d6a-9b45-5fed03729770",
   "metadata": {},
   "outputs": [],
   "source": [
    "#2\n",
    "\n",
    "def isPrime(num):\n",
    "    # Initial checks for small numbers\n",
    "    if num <= 1:\n",
    "        return False\n",
    "    if num <= 3:\n",
    "        return True\n",
    "    if num % 2 == 0 or num % 3 == 0:\n",
    "        return False\n",
    "    i = 5\n",
    "    while i * i <= num:\n",
    "        if num % i == 0 or num % (i + 2) == 0:\n",
    "            return False\n",
    "        i += 6\n",
    "    \n",
    "    return True"
   ]
  },
  {
   "cell_type": "code",
   "execution_count": 4,
   "id": "2a2a6960-64de-4658-b278-1b8c8149eea9",
   "metadata": {},
   "outputs": [
    {
     "name": "stdout",
     "output_type": "stream",
     "text": [
      "True\n"
     ]
    }
   ],
   "source": [
    "\n",
    "print(isPrime(2))"
   ]
  },
  {
   "cell_type": "code",
   "execution_count": 5,
   "id": "29315be2-ca2c-448c-8f41-a34b796d257e",
   "metadata": {},
   "outputs": [
    {
     "name": "stdout",
     "output_type": "stream",
     "text": [
      "False\n"
     ]
    }
   ],
   "source": [
    "\n",
    "print(isPrime(1))"
   ]
  },
  {
   "cell_type": "code",
   "execution_count": 6,
   "id": "3f685ba4-ec04-4a99-9dc4-a4b37fa3661e",
   "metadata": {},
   "outputs": [],
   "source": [
    "#3\n",
    "\n",
    "def is_palindrome(string):\n",
    "    # This function will check if the input string is a palindrome\n",
    "    pass\n",
    "    return string == string[::-1]\n",
    "    "
   ]
  },
  {
   "cell_type": "code",
   "execution_count": 7,
   "id": "e1fe6f83-cc13-4045-afd3-aac761bf2e19",
   "metadata": {},
   "outputs": [],
   "source": [
    "string1 = \"racecar\"\n",
    "string2 = \"hello\""
   ]
  },
  {
   "cell_type": "code",
   "execution_count": 8,
   "id": "5629a98d-23dd-45c3-aafd-b41922c46840",
   "metadata": {},
   "outputs": [
    {
     "name": "stdout",
     "output_type": "stream",
     "text": [
      "Is 'racecar' a palindrome? True\n"
     ]
    }
   ],
   "source": [
    "print(f\"Is '{string1}' a palindrome? {is_palindrome(string1)}\")"
   ]
  },
  {
   "cell_type": "code",
   "execution_count": 9,
   "id": "65bcca1e-c1f6-431d-b74d-72d387f87502",
   "metadata": {},
   "outputs": [
    {
     "name": "stdout",
     "output_type": "stream",
     "text": [
      "Is 'hello' a palindrome? False\n"
     ]
    }
   ],
   "source": [
    "print(f\"Is '{string2}' a palindrome? {is_palindrome(string2)}\")\n"
   ]
  },
  {
   "cell_type": "code",
   "execution_count": 10,
   "id": "47cf7faf-fe99-48c7-9cc8-75f69227174f",
   "metadata": {},
   "outputs": [],
   "source": [
    "#4\n",
    "def reverse_list(data):\n",
    "    pass"
   ]
  },
  {
   "cell_type": "code",
   "execution_count": 11,
   "id": "6645e747-07ee-4deb-ba00-a3e95b5e4fa0",
   "metadata": {},
   "outputs": [],
   "source": [
    "def reverse_list(data):\n",
    "    reversed_list = data[::-1]\n",
    "    return reversed_list"
   ]
  },
  {
   "cell_type": "code",
   "execution_count": 12,
   "id": "e4a92c77-ca34-40b4-95a1-a273dd65aff5",
   "metadata": {},
   "outputs": [],
   "source": [
    "\n",
    "original_list = [3, 4, 5]\n",
    "reversed_result = reverse_list(original_list)"
   ]
  },
  {
   "cell_type": "code",
   "execution_count": 13,
   "id": "de1e67b2-634b-4839-b10b-30e3b30aefa7",
   "metadata": {},
   "outputs": [
    {
     "name": "stdout",
     "output_type": "stream",
     "text": [
      "Original list: [3, 4, 5]\n"
     ]
    }
   ],
   "source": [
    "print(\"Original list:\", original_list)"
   ]
  },
  {
   "cell_type": "code",
   "execution_count": 14,
   "id": "c4c556e7-d94c-4977-98fe-fd106bd83dbf",
   "metadata": {},
   "outputs": [
    {
     "name": "stdout",
     "output_type": "stream",
     "text": [
      "Reversed list: [5, 4, 3]\n"
     ]
    }
   ],
   "source": [
    "print(\"Reversed list:\", reversed_result)"
   ]
  },
  {
   "cell_type": "code",
   "execution_count": 15,
   "id": "b771dcac-0bef-4f22-bd52-60a14d417846",
   "metadata": {},
   "outputs": [],
   "source": [
    "#5\n",
    "def write_file(filename, content):\n",
    "    pass"
   ]
  },
  {
   "cell_type": "code",
   "execution_count": 16,
   "id": "3597ed31-e12c-4862-b479-42b04f8e6060",
   "metadata": {},
   "outputs": [],
   "source": [
    "def write_file(filename, content):\n",
    "    with open(filename, 'w') as file:\n",
    "        pass"
   ]
  },
  {
   "cell_type": "code",
   "execution_count": 17,
   "id": "17b10307-fa0f-489f-a469-ba2295949935",
   "metadata": {},
   "outputs": [],
   "source": [
    "def write_file(filename, content):\n",
    "    with open(filename, 'w') as file:\n",
    "        file.write(content)"
   ]
  },
  {
   "cell_type": "code",
   "execution_count": 18,
   "id": "46b6e06c-ef95-4011-b88a-e302126ff483",
   "metadata": {},
   "outputs": [
    {
     "name": "stdout",
     "output_type": "stream",
     "text": [
      "Content written to example.txt\n"
     ]
    }
   ],
   "source": [
    "filename = \"example.txt\"\n",
    "content = \"This is the content to be written to the file.\"\n",
    "\n",
    "write_file(filename, content)\n",
    "print(f\"Content written to {filename}\")"
   ]
  },
  {
   "cell_type": "code",
   "execution_count": 19,
   "id": "9b6ad23a-a268-49e7-99aa-c734d364bd37",
   "metadata": {},
   "outputs": [
    {
     "name": "stdout",
     "output_type": "stream",
     "text": [
      "Content copied from example_source.txt to example_destination.txt\n",
      "Content of example_destination.txt:\n",
      "This is a test content.\n"
     ]
    }
   ],
   "source": [
    "#6\n",
    "def copy_file(source_filename, destination_filename):\n",
    "    try:\n",
    "        with open(source_filename, 'r') as source_file:\n",
    "            content = source_file.read()\n",
    "\n",
    "        with open(destination_filename, 'w') as destination_file:\n",
    "            destination_file.write(content)\n",
    "\n",
    "        print(f\"Content copied from {source_filename} to {destination_filename}\")\n",
    "\n",
    "    except FileNotFoundError:\n",
    "        print(f\"Error: The file {source_filename} does not exist.\")\n",
    "    \n",
    "    except Exception as e:\n",
    "        print(f\"An error occurred: {e}\")\n",
    "\n",
    "source_file = 'example_source.txt'\n",
    "destination_file = 'example_destination.txt'\n",
    "\n",
    "with open(source_file, 'w') as f:\n",
    "    f.write(\"This is a test content.\")\n",
    "\n",
    "copy_file(source_file, destination_file)\n",
    "\n",
    "with open(destination_file, 'r') as f:\n",
    "    print(f\"Content of {destination_file}:\")\n",
    "    print(f.read())\n",
    "    "
   ]
  },
  {
   "cell_type": "code",
   "execution_count": 20,
   "id": "01096142-8731-476e-aade-2f8db3822289",
   "metadata": {},
   "outputs": [],
   "source": [
    "#7\n",
    "import numpy as np\n",
    "\n",
    "def calculate_dot_product(array1, array2):\n",
    "    return np.dot(array1, array2)"
   ]
  },
  {
   "cell_type": "code",
   "execution_count": 21,
   "id": "c3b208f7-4af3-4f3f-9c9c-4d27c6ead724",
   "metadata": {},
   "outputs": [],
   "source": [
    "array1 = np.array([1, 2, 3])\n",
    "array2 = np.array([4, 5, 6])"
   ]
  },
  {
   "cell_type": "code",
   "execution_count": 22,
   "id": "b625f35a-c837-4324-ae28-9dc540a149a7",
   "metadata": {},
   "outputs": [],
   "source": [
    "\n",
    "result = calculate_dot_product(array1, array2)"
   ]
  },
  {
   "cell_type": "code",
   "execution_count": 23,
   "id": "11253ca6-d509-48f3-a672-425e4981f24a",
   "metadata": {},
   "outputs": [
    {
     "name": "stdout",
     "output_type": "stream",
     "text": [
      "Dot product: 32\n"
     ]
    }
   ],
   "source": [
    "print(f\"Dot product: {result}\")"
   ]
  },
  {
   "cell_type": "code",
   "execution_count": null,
   "id": "5378323a-b9a6-4ee3-9c3e-1c0a5d3b91c1",
   "metadata": {},
   "outputs": [],
   "source": [
    "#8\n",
    "import tkinter as tk\n",
    "from tkinter import ttk\n",
    "\n",
    "top = tk.Tk()\n",
    "\n",
    "top.title(\"Favorite Color Selector\")\n",
    "top.geometry(\"300x200\")\n",
    "color_var = tk.StringVar(value='Red')\n",
    "\n",
    "def change_color():\n",
    "    selected_color = color_var.get()\n",
    "    if selected_color == 'Red':\n",
    "        top.configure(bg='red')\n",
    "    elif selected_color == 'Green':\n",
    "        top.configure(bg='green')\n",
    "    elif selected_color == 'Blue':\n",
    "        top.configure(bg='blue')\n",
    "\n",
    "radio_red = ttk.Radiobutton(top, text='Red', value='Red', variable=color_var, command=change_color)\n",
    "radio_red.grid(row=0, column=0)\n",
    "\n",
    "radio_green = ttk.Radiobutton(top, text='Green', value='Green', variable=color_var, command=change_color)\n",
    "radio_green.grid(row=1, column=0)\n",
    "\n",
    "radio_blue = ttk.Radiobutton(top, text='Blue', value='Blue', variable=color_var, command=change_color)\n",
    "radio_blue.grid(row=2, column=0)\n",
    "\n",
    "top.mainloop()"
   ]
  },
  {
   "cell_type": "code",
   "execution_count": null,
   "id": "563394f6-817d-40f3-ad2d-c961022bc877",
   "metadata": {},
   "outputs": [],
   "source": [
    "#9\n",
    "import tkinter as tk\n",
    "from tkinter import ttk\n",
    "\n",
    "top = tk.Tk()\n",
    "top.title('Currency Converter')\n",
    "\n",
    "result_var = tk.StringVar()\n",
    "result_label = tk.Label(top, textvariable=result_var, font=('Arial', 24))\n",
    "result_label.grid(row=4, column=0, columnspan=2)\n",
    "\n",
    "convert_button = tk.Button(top, text=\"Convert\", command=convert_currency)\n",
    "convert_button.grid(row=3, column=0, columnspan=2)\n",
    "\n",
    "\n",
    "def convert_currency():\n",
    "    amount = float(amount_entry.get())\n",
    "    from_currency = from_currency_var.get()\n",
    "    to_currency = to_currency_var.get()\n",
    "    if from_currency == to_currency:\n",
    "        result = amount\n",
    "    else:\n",
    "        rate = conversion_rates[from_currency][to_currency]\n",
    "        result = amount * rate\n",
    "    result_var.set(f\"{result:.2f} {to_currency}\")\n",
    "\n",
    "\n",
    "# Conversion rates dictionary\n",
    "conversion_rates = {\n",
    "    \"USD\": {\"EUR\": 0.85, \"INR\": 74.10},\n",
    "    \"EUR\": {\"USD\": 1.18, \"INR\": 87.21},\n",
    "    \"INR\": {\"USD\": 0.013, \"EUR\": 0.011}\n",
    "}\n",
    "\n",
    "\n",
    "# Amount entry\n",
    "amount_label = tk.Label(top, text=\"Amount:\")\n",
    "amount_label.grid(row=0, column=0)\n",
    "amount_entry = tk.Entry(top)\n",
    "amount_entry.grid(row=0, column=1)\n",
    "\n",
    "# From currency\n",
    "from_currency_label = tk.Label(top, text=\"From:\")\n",
    "from_currency_label.grid(row=1, column=0)\n",
    "from_currency_var = tk.StringVar(value='USD')\n",
    "from_currency_combo = ttk.Combobox(top, textvariable=from_currency_var)\n",
    "from_currency_combo['values'] = ('USD', 'EUR', 'INR')\n",
    "from_currency_combo.grid(row=1, column=1)\n",
    "\n",
    "# To currency\n",
    "to_currency_label = tk.Label(top, text=\"To:\")\n",
    "to_currency_label.grid(row=2, column=0)\n",
    "to_currency_var = tk.StringVar(value='EUR')\n",
    "to_currency_combo = ttk.Combobox(top, textvariable=to_currency_var)\n",
    "to_currency_combo['values'] = ('USD', 'EUR', 'INR')\n",
    "to_currency_combo.grid(row=2, column=1)\n",
    "\n",
    "top.mainloop()"
   ]
  },
  {
   "cell_type": "code",
   "execution_count": null,
   "id": "870ce38e-d0ef-4843-bd9c-04b04fb6fe8d",
   "metadata": {},
   "outputs": [],
   "source": []
  }
 ],
 "metadata": {
  "kernelspec": {
   "display_name": "Python 3 (ipykernel)",
   "language": "python",
   "name": "python3"
  },
  "language_info": {
   "codemirror_mode": {
    "name": "ipython",
    "version": 3
   },
   "file_extension": ".py",
   "mimetype": "text/x-python",
   "name": "python",
   "nbconvert_exporter": "python",
   "pygments_lexer": "ipython3",
   "version": "3.11.7"
  }
 },
 "nbformat": 4,
 "nbformat_minor": 5
}
